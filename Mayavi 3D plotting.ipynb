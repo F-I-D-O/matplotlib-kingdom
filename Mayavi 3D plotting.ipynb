{
 "cells": [
  {
   "cell_type": "markdown",
   "source": [
    "# First example from mayavi web"
   ],
   "metadata": {
    "collapsed": false,
    "pycharm": {
     "name": "#%% md\n"
    }
   }
  },
  {
   "cell_type": "code",
   "execution_count": 5,
   "outputs": [],
   "source": [
    "# Create the data.\n",
    "from numpy import pi, sin, cos, mgrid\n",
    "dphi, dtheta = pi/250.0, pi/250.0\n",
    "[phi,theta] = mgrid[0:pi+dphi*1.5:dphi,0:2*pi+dtheta*1.5:dtheta]\n",
    "m0 = 4; m1 = 3; m2 = 2; m3 = 3; m4 = 6; m5 = 2; m6 = 6; m7 = 4;\n",
    "r = sin(m0*phi)**m1 + cos(m2*phi)**m3 + sin(m4*theta)**m5 + cos(m6*theta)**m7\n",
    "x = r*sin(phi)*cos(theta)\n",
    "y = r*cos(phi)\n",
    "z = r*sin(phi)*sin(theta)\n",
    "\n",
    "# View it.\n",
    "from mayavi import mlab\n",
    "s = mlab.mesh(x, y, z)\n",
    "mlab.show()"
   ],
   "metadata": {
    "collapsed": false,
    "pycharm": {
     "name": "#%%\n"
    }
   }
  },
  {
   "cell_type": "markdown",
   "source": [
    "# Sensitivity Analysis"
   ],
   "metadata": {
    "collapsed": false,
    "pycharm": {
     "name": "#%% md\n"
    }
   }
  },
  {
   "cell_type": "code",
   "execution_count": 7,
   "outputs": [],
   "source": [
    "x = [10, 2, 3, 4, 5, 6, 7, 8, 9]\n",
    "y = [120, 150, 180, 210, 240, 270, 300, 30, 330, 360, 390, 420, 450, 480, 510, 540, 570, 600, 60, 90]\n",
    "z = [[3407.0, 4134.0, 5013.0, 5747.0, 6551.0, 7283.0, 8109.0, 859.0, 8793.0, 9487.0, 10261.0, 11062.0, 11800.0, 12509.0, 13361.0, 14003.0, 14672.0, 15284.0, 1709.0, 2602.0], [3434.0, 4303.0, 5141.0, 5739.0, 6487.0, 6989.0, 7856.0, 1124.0, 8595.0, 9219.0, 10024.0, 10704.0, 11370.0, 12018.0, 12815.0, 13707.0, 14489.0, 14996.0, 1920.0, 2605.0], [3336.0, 3946.0, 4749.0, 5439.0, 6183.0, 6640.0, 7624.0, 997.0, 8056.0, 9043.0, 9671.0, 10315.0, 10915.0, 11609.0, 12171.0, 13092.0, 13774.0, 14109.0, 1898.0, 2648.0], [3353.0, 3938.0, 4719.0, 5526.0, 6170.0, 6785.0, 7628.0, 1025.0, 8238.0, 9024.0, 9699.0, 10189.0, 10973.0, 11626.0, 12267.0, 13063.0, 13714.0, 14177.0, 1831.0, 2524.0], [3262.0, 3979.0, 4812.0, 5485.0, 6214.0, 6853.0, 7527.0, 953.0, 8332.0, 9160.0, 9621.0, 10377.0, 11072.0, 11732.0, 12352.0, 13014.0, 13691.0, 14359.0, 1799.0, 2540.0], [3237.0, 4115.0, 4855.0, 5568.0, 6284.0, 6930.0, 7755.0, 911.0, 8485.0, 9175.0, 10005.0, 10528.0, 11434.0, 11998.0, 12712.0, 13336.0, 13963.0, 14432.0, 1796.0, 2603.0], [3335.0, 4084.0, 4890.0, 5726.0, 6373.0, 7101.0, 7752.0, 969.0, 8668.0, 9387.0, 9962.0, 10670.0, 11530.0, 12382.0, 12664.0, 13520.0, 14388.0, 15080.0, 1809.0, 2554.0], [3387.0, 4131.0, 4894.0, 5603.0, 6544.0, 7230.0, 7764.0, 898.0, 8808.0, 9378.0, 9930.0, 10768.0, 11616.0, 12495.0, 13009.0, 13770.0, 14128.0, 15209.0, 1801.0, 2590.0], [3282.0, 4174.0, 4887.0, 5811.0, 6489.0, 7254.0, 7964.0, 894.0, 8697.0, 9418.0, 10064.0, 10969.0, 11604.0, 12209.0, 13082.0, 13874.0, 14701.0, 15297.0, 1810.0, 2537.0]]"
   ],
   "metadata": {
    "collapsed": false,
    "pycharm": {
     "name": "#%%\n"
    }
   }
  },
  {
   "cell_type": "code",
   "execution_count": 17,
   "outputs": [
    {
     "data": {
      "text/plain": "<mayavi.modules.axes.Axes at 0x1a4a802f7c0>"
     },
     "execution_count": 17,
     "metadata": {},
     "output_type": "execute_result"
    }
   ],
   "source": [
    "# mlab.surf(x, y, z)\n",
    "mlab.surf(x, y, z, warp_scale=\"auto\")\n",
    "mlab.axes(xlabel='max_delay [minutes]', ylabel='experiment length [seconds]', zlabel='solution cost [minutes]')"
   ],
   "metadata": {
    "collapsed": false,
    "pycharm": {
     "name": "#%%\n"
    }
   }
  },
  {
   "cell_type": "code",
   "execution_count": null,
   "outputs": [],
   "source": [
    "mlab.show()"
   ],
   "metadata": {
    "collapsed": false,
    "pycharm": {
     "name": "#%%\n",
     "is_executing": true
    }
   }
  },
  {
   "cell_type": "code",
   "execution_count": 12,
   "outputs": [
    {
     "name": "stderr",
     "output_type": "stream",
     "text": [
      "Current object is not active, please select an active object.\n",
      "Exception occurred in traits notification handler for object: <mayavi.tools.decorations.Axes object at 0x000001A4AEDBEBD0>, trait: extent, old value: [0 0 0 0 0 0], new value: [2.000000e+00 1.000000e+01 3.000000e+01 4.900000e+01 1.443395e+04\n",
      " 1.444205e+04]\n",
      "Traceback (most recent call last):\n",
      "  File \"C:\\Program Files\\Python39\\lib\\site-packages\\traits\\trait_notifiers.py\", line 342, in __call__\n",
      "    self.handler(*args)\n",
      "  File \"C:\\Program Files\\Python39\\lib\\site-packages\\mayavi\\tools\\decorations.py\", line 373, in _extent_changed\n",
      "    dsh = DataSetHelper(axes.module_manager.source.outputs[0])\n",
      "AttributeError: 'NoneType' object has no attribute 'source'\n"
     ]
    },
    {
     "data": {
      "text/plain": "<mayavi.modules.axes.Axes at 0x1a4ada0d400>"
     },
     "execution_count": 12,
     "metadata": {},
     "output_type": "execute_result"
    }
   ],
   "source": [],
   "metadata": {
    "collapsed": false,
    "pycharm": {
     "name": "#%%\n"
    }
   }
  },
  {
   "cell_type": "code",
   "execution_count": null,
   "outputs": [],
   "source": [],
   "metadata": {
    "collapsed": false,
    "pycharm": {
     "name": "#%%\n"
    }
   }
  }
 ],
 "metadata": {
  "kernelspec": {
   "display_name": "Python 3",
   "language": "python",
   "name": "python3"
  },
  "language_info": {
   "codemirror_mode": {
    "name": "ipython",
    "version": 2
   },
   "file_extension": ".py",
   "mimetype": "text/x-python",
   "name": "python",
   "nbconvert_exporter": "python",
   "pygments_lexer": "ipython2",
   "version": "2.7.6"
  }
 },
 "nbformat": 4,
 "nbformat_minor": 0
}